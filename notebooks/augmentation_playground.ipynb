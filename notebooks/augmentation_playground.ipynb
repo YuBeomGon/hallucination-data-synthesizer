{
  "cells": [
    {
      "cell_type": "markdown",
      "metadata": {},
      "source": [
        "# Augmentation Playground\n",
        "증강 파라미터를 실험하고 결과 오디오/스펙트럼을 즉시 확인하기 위한 노트북입니다.\n",
        "1. 개별 Zeroth 샘플에 노이즈 삽입을 적용하면서 파라미터를 조정해 봅니다.\n",
        "2. 이미 생성된 `augmented_meta.jsonl`을 로드해 오디오를 재생/분석합니다."
      ]
    },
    {
      "cell_type": "code",
      "execution_count": null,
      "metadata": {},
      "outputs": [],
      "source": [
        "from pathlib import Path\n",
        "import json\n",
        "import random\n",
        "import numpy as np\n",
        "import pandas as pd\n",
        "import soundfile as sf\n",
        "import matplotlib.pyplot as plt\n",
        "from IPython.display import Audio, display\n",
        "\n",
        "from src.utils.config_loader import load_yaml\n",
        "from src.modules.audio_processor import AudioProcessor\n",
        "from src.modules.noise_selector import NoiseSelector\n",
        "from src.pipeline.step_02_augment import (\n",
        "    AugmentationConfig,\n",
        "    collect_candidates,\n",
        "    choose_gap,\n",
        "    uniform_duration,\n",
        "    process_record,\n",
        ")\n",
        "\n",
        "%matplotlib inline\n",
        "project_root = Path('..').resolve()\n"
      ]
    },
    {
      "cell_type": "code",
      "execution_count": null,
      "metadata": {},
      "outputs": [],
      "source": [
        "config = load_yaml(project_root / 'configs/default_config.yaml')\n",
        "paths_cfg = config['paths']\n",
        "synth_cfg = config['synthesis']\n",
        "print('Loaded configuration.')\n"
      ]
    },
    {
      "cell_type": "code",
      "execution_count": null,
      "metadata": {},
      "outputs": [],
      "source": [
        "split = 'test'  # 'train'으로 변경 가능\n",
        "alignment_path = (project_root / paths_cfg['label_dir']) / split / 'raw_alignment.jsonl'\n",
        "records = []\n",
        "with alignment_path.open('r', encoding='utf-8') as fh:\n",
        "    for line in fh:\n",
        "        if not line.strip():\n",
        "            continue\n",
        "        rec = json.loads(line)\n",
        "        records.append(rec)\n",
        "\n",
        "meta_path = (project_root / 'data/labels') / split / 'augmented_meta.jsonl'\n",
        "meta = pd.read_json(meta_path, lines=True)\n",
        "meta_ok = meta[meta['status'] == 'ok'].reset_index(drop=True)\n",
        "print(f'total records: {len(meta)}, ok: {len(meta_ok)}')\n",
        "meta_ok.head()\n"
      ]
    },
    {
      "cell_type": "code",
      "execution_count": null,
      "metadata": {},
      "outputs": [],
      "source": [
        "sample_idx = 0  # meta_ok에서 듣고 싶은 index로 수정\n",
        "selected = meta_ok.loc[sample_idx]\n",
        "sample_id = selected['sample_id']\n",
        "record_candidates = [r for r in records if r.get('sample_id') == sample_id]\n",
        "if not record_candidates:\n",
        "    raise RuntimeError('선택된 sample_id에 대응하는 alignment 레코드가 없습니다.')\n",
        "record = record_candidates[0]\n",
        "print(f'Selected sample_id: {sample_id}, augmented index: {sample_idx}')\n"
      ]
    },
    {
      "cell_type": "code",
      "execution_count": null,
      "metadata": {},
      "outputs": [],
      "source": [
        "custom_params = {\n",
        "    'min_gap_sec': 0.5,\n",
        "    'insertion_min_sec': 1.5,\n",
        "    'insertion_max_sec': 3.0,\n",
        "    'crossfade_sec': 0.05,\n",
        "    'context_window_sec': 0.75,\n",
        "    'target_snr_db': 12.0,\n",
        "    'loudness_target_lufs': -23.0,\n",
        "    'true_peak_dbfs': -1.0,\n",
        "    'insertions_per_file': 1,\n",
        "    'rng_seed': 2025,\n",
        "    'noise_categories': None,\n",
        "}\n",
        "cfg = AugmentationConfig(**custom_params)\n",
        "cfg\n"
      ]
    },
    {
      "cell_type": "code",
      "execution_count": null,
      "metadata": {},
      "outputs": [],
      "source": [
        "audio_processor = AudioProcessor(\n",
        "    sample_rate=16000,\n",
        "    crossfade_sec=cfg.crossfade_sec,\n",
        "    loudness_target_lufs=cfg.loudness_target_lufs,\n",
        "    true_peak_dbfs=cfg.true_peak_dbfs,\n",
        "    context_window_sec=cfg.context_window_sec,\n",
        ")\n",
        "noise_selector = NoiseSelector(\n",
        "    catalog_path=project_root / paths_cfg['noise_catalog'],\n",
        "    noise_root=project_root / paths_cfg['noise_dir'],\n",
        "    rng=random.Random(cfg.rng_seed),\n",
        "    allow_categories=cfg.noise_categories,\n",
        ")\n",
        "rng = random.Random(cfg.rng_seed)\n",
        "input_audio_root = (project_root / paths_cfg['input_audio_dir']).resolve()\n",
        "aug_dir = (project_root / paths_cfg['output_dir']) / split\n",
        "aug_dir.mkdir(parents=True, exist_ok=True)\n",
        "\n",
        "child_seed = rng.randint(0, 2**31 - 1)\n",
        "result = process_record(\n",
        "    record=record,\n",
        "    audio_processor=audio_processor,\n",
        "    noise_selector=noise_selector,\n",
        "    rng=random.Random(child_seed),\n",
        "    seed=child_seed,\n",
        "    config=cfg,\n",
        "    input_audio_root=input_audio_root,\n",
        "    augmented_audio_dir=aug_dir,\n",
        ")\n",
        "result\n"
      ]
    },
    {
      "cell_type": "code",
      "execution_count": null,
      "metadata": {},
      "outputs": [],
      "source": [
        "if result['status'] != 'ok':\n",
        "    msg = 'Augmentation skipped or failed: {} - {}'.format(result['status'], result.get('error_msg'))\n",
        "    raise RuntimeError(msg)\n",
        "orig_path = Path(result['original_audio_path'])\n",
        "if not orig_path.is_absolute():\n",
        "    orig_path = (project_root / orig_path).resolve()\n",
        "aug_path = Path(result['augmented_audio_path'])\n",
        "if not aug_path.is_absolute():\n",
        "    aug_path = (project_root / aug_path).resolve()\n",
        "orig_wave, sr = sf.read(orig_path, dtype='float32')\n",
        "aug_wave, _ = sf.read(aug_path, dtype='float32')\n",
        "\n",
        "plt.figure(figsize=(12, 3))\n",
        "plt.plot(orig_wave)\n",
        "plt.title('Original waveform')\n",
        "plt.xlim(0, len(orig_wave))\n",
        "plt.show()\n",
        "\n",
        "plt.figure(figsize=(12, 3))\n",
        "plt.plot(aug_wave, color='orange')\n",
        "plt.title('Augmented waveform')\n",
        "plt.xlim(0, len(aug_wave))\n",
        "plt.show()\n",
        "\n",
        "display(Audio(orig_wave, rate=sr))\n",
        "display(Audio(aug_wave, rate=sr))\n"
      ]
    },
    {
      "cell_type": "code",
      "execution_count": null,
      "metadata": {},
      "outputs": [],
      "source": [
        "import pandas as pd\n",
        "orig_words = record.get('alignment', {}).get('words', [])\n",
        "if orig_words:\n",
        "    df_orig = pd.DataFrame(orig_words)\n",
        "    display(df_orig[['w', 'start', 'end']].rename(columns={'w': 'word'}))\n",
        "else:\n",
        "    print('No original alignment data available.')\n",
        "\n",
        "updated_words = result.get('updated_segments', [])\n",
        "if updated_words:\n",
        "    df_updated = pd.DataFrame(updated_words)\n",
        "    display(df_updated[['w', 'start', 'end']].rename(columns={'w': 'word'}))\n",
        "else:\n",
        "    print('No updated segments available (likely skipped).')\n"
      ]
    },
    {
      "cell_type": "markdown",
      "metadata": {},
      "source": [
        "## 이미 생성된 증강 결과 살펴보기"
      ]
    },
    {
      "cell_type": "code",
      "execution_count": null,
      "metadata": {},
      "outputs": [],
      "source": [
        "meta_ok.head()\n"
      ]
    },
    {
      "cell_type": "code",
      "execution_count": null,
      "metadata": {},
      "outputs": [],
      "source": [
        "row_index = 0  # meta_ok에서 듣고 싶은 index\n",
        "row = meta_ok.loc[row_index]\n",
        "aug_path = Path(row['augmented_audio_path'])\n",
        "if not aug_path.is_absolute():\n",
        "    aug_path = (project_root / aug_path).resolve()\n",
        "wave, sr = sf.read(aug_path, dtype='float32')\n",
        "plt.figure(figsize=(12, 3))\n",
        "plt.plot(wave)\n",
        "plt.title('Augmented sample: {}'.format(row['aug_id']))\n",
        "plt.show()\n",
        "display(Audio(wave, rate=sr))\n"
      ]
    },
    {
      "cell_type": "code",
      "execution_count": null,
      "metadata": {},
      "outputs": [],
      "source": [
        "# raw alignment for selected sample\n",
        "alignment_records = [r for r in records if r.get('sample_id') == row['sample_id']]\n",
        "if alignment_records:\n",
        "    df_orig = pd.DataFrame(alignment_records[0].get('alignment', {}).get('words', []))\n",
        "    if not df_orig.empty:\n",
        "        display(df_orig[['w', 'start', 'end']].rename(columns={'w': 'word'}))\n",
        "else:\n",
        "    print('No alignment data for selected sample')\n"
      ]
    }
  ],
  "metadata": {
    "kernelspec": {
      "display_name": "Python 3",
      "language": "python",
      "name": "python3"
    },
    "language_info": {
      "name": "python",
      "version": "3.10"
    }
  },
  "nbformat": 4,
  "nbformat_minor": 5
}