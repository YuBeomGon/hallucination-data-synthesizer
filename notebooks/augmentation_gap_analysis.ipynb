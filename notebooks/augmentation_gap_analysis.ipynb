{
  "cells": [
    {
      "cell_type": "markdown",
      "metadata": {},
      "source": [
        "# Gap Analysis for Alignment Data\n",
        "이 노트북은 `data/labels/train/raw_alignment.jsonl`을 기반으로 단어 간 gap 분포와 문장별 최대 gap 분포를 분석합니다."
      ]
    },
    {
      "cell_type": "code",
      "execution_count": null,
      "metadata": {},
      "outputs": [],
      "source": [
        "from pathlib import Path\n",
        "import json\n",
        "import numpy as np\n",
        "import pandas as pd\n",
        "import matplotlib.pyplot as plt\n",
        "\n",
        "%matplotlib inline\n"
      ]
    },
    {
      "cell_type": "code",
      "execution_count": null,
      "metadata": {},
      "outputs": [],
      "source": [
        "alignment_path = Path('../data/labels/train/raw_alignment.jsonl')\n",
        "if not alignment_path.exists():\n",
        "    raise FileNotFoundError('Alignment file not found: {0}'.format(alignment_path))\n",
        "\n",
        "word_gaps = []\n",
        "max_gap_per_sample = []\n",
        "total_words = 0\n",
        "\n",
        "with alignment_path.open('r', encoding='utf-8') as fh:\n",
        "    for line in fh:\n",
        "        if not line.strip():\n",
        "            continue\n",
        "        record = json.loads(line)\n",
        "        words = record.get('alignment', {}).get('words', [])\n",
        "        words = [w for w in words if w.get('start') is not None and w.get('end') is not None]\n",
        "        if not words:\n",
        "            continue\n",
        "        words.sort(key=lambda w: float(w['start']))\n",
        "        total_words += len(words)\n",
        "        sample_gaps = []\n",
        "        for prev, nxt in zip(words, words[1:]):\n",
        "            gap = float(nxt['start']) - float(prev['end'])\n",
        "            if gap > 0:\n",
        "                word_gaps.append(gap)\n",
        "                sample_gaps.append(gap)\n",
        "        if sample_gaps:\n",
        "            max_gap_per_sample.append(max(sample_gaps))\n",
        "\n",
        "word_gaps = np.array(word_gaps, dtype=np.float32)\n",
        "max_gap_per_sample = np.array(max_gap_per_sample, dtype=np.float32)\n",
        "print(f'Total words processed: {total_words}')\n",
        "print(f'Total word gaps: {len(word_gaps)}')\n",
        "print(f'Samples with gap info: {len(max_gap_per_sample)}')\n"
      ]
    },
    {
      "cell_type": "code",
      "execution_count": null,
      "metadata": {},
      "outputs": [],
      "source": [
        "def summarize_gaps(values, label):\n",
        "    if values.size == 0:\n",
        "        print(f'{label}: no data')\n",
        "        return\n",
        "    series = pd.Series(values)\n",
        "    summary = series.describe(percentiles=[0.1, 0.25, 0.5, 0.75, 0.9, 0.95, 0.99])\n",
        "    print(f'--- {label} ---')\n",
        "    display(summary.to_frame(name='seconds'))\n",
        "\n",
        "summarize_gaps(word_gaps, 'Word-to-word gaps')\n",
        "summarize_gaps(max_gap_per_sample, 'Max gap per sample')\n"
      ]
    },
    {
      "cell_type": "code",
      "execution_count": null,
      "metadata": {},
      "outputs": [],
      "source": [
        "plt.figure(figsize=(8, 4))\n",
        "plt.hist(word_gaps, bins=100, color='steelblue', edgecolor='black')\n",
        "plt.title('Word-to-Word Gap Distribution (Train)')\n",
        "plt.xlabel('Gap length (seconds)')\n",
        "plt.ylabel('Count')\n",
        "plt.xlim(0, 2.0)\n",
        "plt.tight_layout()\n",
        "plt.show()\n"
      ]
    },
    {
      "cell_type": "code",
      "execution_count": null,
      "metadata": {},
      "outputs": [],
      "source": [
        "plt.figure(figsize=(8, 4))\n",
        "plt.hist(max_gap_per_sample, bins=50, color='darkorange', edgecolor='black')\n",
        "plt.title('Max Gap per Sample (Train)')\n",
        "plt.xlabel('Gap length (seconds)')\n",
        "plt.ylabel('Count')\n",
        "plt.tight_layout()\n",
        "plt.show()\n"
      ]
    },
    {
      "cell_type": "code",
      "execution_count": null,
      "id": "a1d2fcb2",
      "metadata": {},
      "outputs": [],
      "source": []
    },
    {
      "cell_type": "code",
      "execution_count": null,
      "id": "29aa5ec6",
      "metadata": {},
      "outputs": [],
      "source": []
    },
    {
      "cell_type": "code",
      "execution_count": null,
      "id": "e7f1c69a",
      "metadata": {},
      "outputs": [],
      "source": []
    }
  ],
  "metadata": {
    "kernelspec": {
      "display_name": "Python 3",
      "language": "python",
      "name": "python3"
    },
    "language_info": {
      "name": "python",
      "version": "3.10.19"
    }
  },
  "nbformat": 4,
  "nbformat_minor": 5
}
