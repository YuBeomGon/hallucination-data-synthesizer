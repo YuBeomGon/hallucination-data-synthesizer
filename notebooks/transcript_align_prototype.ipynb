{
  "cells": [
    {
      "cell_type": "markdown",
      "metadata": {},
      "source": [
        "# Transcript Alignment Prototype\n",
        "정답 텍스트만으로 WhisperX align 모델을 호출하는 간단한 실험입니다."
      ]
    },
    {
      "cell_type": "code",
      "execution_count": null,
      "metadata": {},
      "outputs": [],
      "source": [
        "from pathlib import Path\n",
        "import json\n",
        "from pprint import pprint\n",
        "\n",
        "import whisper\n",
        "import whisperx\n",
        "from src.utils.config_loader import load_yaml\n"
      ]
    },
    {
      "cell_type": "code",
      "execution_count": null,
      "metadata": {},
      "outputs": [],
      "source": [
        "config = load_yaml(Path('configs/default_config.yaml'))\n",
        "paths = config['paths']\n",
        "align_cfg = config['aligner']\n",
        "alignment_path = Path(paths['label_dir']) / 'test' / 'raw_alignment.jsonl'\n",
        "with alignment_path.open('r', encoding='utf-8') as fh:\n",
        "    record = json.loads(next(fh))\n",
        "record\n"
      ]
    },
    {
      "cell_type": "code",
      "execution_count": null,
      "metadata": {},
      "outputs": [],
      "source": [
        "audio_path = Path(record['audio_path'])\n",
        "if not audio_path.is_absolute():\n",
        "    audio_path = Path(paths['input_audio_dir']) / audio_path\n",
        "text = record['text']\n",
        "print('audio:', audio_path)\n",
        "print('text:', text)\n"
      ]
    },
    {
      "cell_type": "code",
      "execution_count": null,
      "metadata": {},
      "outputs": [],
      "source": [
        "device = align_cfg.get('device', 'cpu')\n",
        "language = align_cfg.get('language', 'ko')\n",
        "model_name = align_cfg.get('model_name', 'large-v3')\n",
        "multilingual = not model_name.endswith('.en')\n",
        "tokenizer = whisper.tokenizer.get_tokenizer(multilingual=multilingual, language=language)\n",
        "align_model, metadata = whisperx.load_align_model(language_code=language, device=device)\n",
        "audio = whisperx.load_audio(str(audio_path))\n",
        "segments = [{\n",
        "    'text': text,\n",
        "    'tokens': tokenizer.encode(text)[0]\n",
        "}]\n",
        "aligned = whisperx.align(segments, align_model, metadata, audio, device=device)\n",
        "pprint(aligned['word_segments'][:10])\n"
      ]
    }
  ],
  "metadata": {
    "kernelspec": {
      "display_name": "Python 3",
      "language": "python",
      "name": "python3"
    },
    "language_info": {
      "name": "python",
      "version": "3.10"
    }
  },
  "nbformat": 4,
  "nbformat_minor": 5
}
