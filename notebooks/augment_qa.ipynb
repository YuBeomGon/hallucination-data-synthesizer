{
  "cells": [
    {
      "cell_type": "markdown",
      "id": "2c8b93f5",
      "metadata": {},
      "source": [
        "# Augmentation QA Notebook\n",
        "샘플 증강 결과를 시각적으로 점검하기 위한 노트북입니다.\n",
        "- 메타데이터(`data/labels/<split>/augmented_meta.jsonl`)에서 샘플을 선택합니다.\n",
        "- 파형/스펙트로그램/오디오 비교 셀을 추가해서 품질을 확인하세요."
      ]
    }
  ],
  "metadata": {
    "kernelspec": {
      "display_name": "Python 3",
      "language": "python",
      "name": "python3"
    },
    "language_info": {
      "name": "python",
      "version": "3.10"
    }
  },
  "nbformat": 4,
  "nbformat_minor": 5
}
