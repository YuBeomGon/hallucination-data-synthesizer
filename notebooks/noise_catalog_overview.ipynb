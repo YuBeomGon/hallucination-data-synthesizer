{
 "cells": [
  {
   "cell_type": "markdown",
   "metadata": {},
   "source": [
    "# Noise Catalog Overview\n",
    "이 노트북은 `data/noise_catalog.csv`로 정리된 AI Hub 소음 메타데이터를 빠르게 살펴보기 위한 템플릿입니다.\n",
    "실행 전에 `conda activate hallucination_synth` 후 필요한 패키지(`pandas`, `matplotlib`, `seaborn`)가 설치되어 있는지 확인하세요."
   ]
  },
  {
   "cell_type": "code",
   "execution_count": null,
   "id": "259d2086",
   "metadata": {},
   "outputs": [],
   "source": []
  },
  {
   "cell_type": "code",
   "execution_count": 2,
   "id": "15ee1fad",
   "metadata": {},
   "outputs": [
    {
     "name": "stdout",
     "output_type": "stream",
     "text": [
      "Collecting seaborn\n",
      "  Using cached seaborn-0.13.2-py3-none-any.whl.metadata (5.4 kB)\n",
      "Requirement already satisfied: matplotlib in /home/jake/anaconda3/envs/hallucination_synth/lib/python3.10/site-packages (3.10.7)\n",
      "Requirement already satisfied: numpy!=1.24.0,>=1.20 in /home/jake/anaconda3/envs/hallucination_synth/lib/python3.10/site-packages (from seaborn) (2.0.2)\n",
      "Requirement already satisfied: pandas>=1.2 in /home/jake/anaconda3/envs/hallucination_synth/lib/python3.10/site-packages (from seaborn) (2.2.3)\n",
      "Requirement already satisfied: contourpy>=1.0.1 in /home/jake/anaconda3/envs/hallucination_synth/lib/python3.10/site-packages (from matplotlib) (1.3.2)\n",
      "Requirement already satisfied: cycler>=0.10 in /home/jake/anaconda3/envs/hallucination_synth/lib/python3.10/site-packages (from matplotlib) (0.12.1)\n",
      "Requirement already satisfied: fonttools>=4.22.0 in /home/jake/anaconda3/envs/hallucination_synth/lib/python3.10/site-packages (from matplotlib) (4.60.1)\n",
      "Requirement already satisfied: kiwisolver>=1.3.1 in /home/jake/anaconda3/envs/hallucination_synth/lib/python3.10/site-packages (from matplotlib) (1.4.9)\n",
      "Requirement already satisfied: packaging>=20.0 in /home/jake/anaconda3/envs/hallucination_synth/lib/python3.10/site-packages (from matplotlib) (25.0)\n",
      "Requirement already satisfied: pillow>=8 in /home/jake/anaconda3/envs/hallucination_synth/lib/python3.10/site-packages (from matplotlib) (12.0.0)\n",
      "Requirement already satisfied: pyparsing>=3 in /home/jake/anaconda3/envs/hallucination_synth/lib/python3.10/site-packages (from matplotlib) (3.2.5)\n",
      "Requirement already satisfied: python-dateutil>=2.7 in /home/jake/anaconda3/envs/hallucination_synth/lib/python3.10/site-packages (from matplotlib) (2.9.0.post0)\n",
      "Requirement already satisfied: pytz>=2020.1 in /home/jake/anaconda3/envs/hallucination_synth/lib/python3.10/site-packages (from pandas>=1.2->seaborn) (2025.2)\n",
      "Requirement already satisfied: tzdata>=2022.7 in /home/jake/anaconda3/envs/hallucination_synth/lib/python3.10/site-packages (from pandas>=1.2->seaborn) (2025.2)\n",
      "Requirement already satisfied: six>=1.5 in /home/jake/anaconda3/envs/hallucination_synth/lib/python3.10/site-packages (from python-dateutil>=2.7->matplotlib) (1.17.0)\n",
      "Using cached seaborn-0.13.2-py3-none-any.whl (294 kB)\n",
      "Installing collected packages: seaborn\n",
      "Successfully installed seaborn-0.13.2\n"
     ]
    }
   ],
   "source": [
    "!pip install seaborn matplotlib"
   ]
  },
  {
   "cell_type": "code",
   "execution_count": 3,
   "metadata": {},
   "outputs": [
    {
     "data": {
      "text/plain": [
       "PosixPath('../data/noise_catalog.csv')"
      ]
     },
     "execution_count": 3,
     "metadata": {},
     "output_type": "execute_result"
    }
   ],
   "source": [
    "from pathlib import Path\n",
    "import pandas as pd\n",
    "import matplotlib.pyplot as plt\n",
    "import seaborn as sns\n",
    "\n",
    "sns.set_theme(style='whitegrid')\n",
    "\n",
    "project_root = Path('..')\n",
    "catalog_path = project_root / 'data' / 'noise_catalog.csv'\n",
    "catalog_path"
   ]
  },
  {
   "cell_type": "code",
   "execution_count": 4,
   "metadata": {},
   "outputs": [
    {
     "data": {
      "text/html": [
       "<div>\n",
       "<style scoped>\n",
       "    .dataframe tbody tr th:only-of-type {\n",
       "        vertical-align: middle;\n",
       "    }\n",
       "\n",
       "    .dataframe tbody tr th {\n",
       "        vertical-align: top;\n",
       "    }\n",
       "\n",
       "    .dataframe thead th {\n",
       "        text-align: right;\n",
       "    }\n",
       "</style>\n",
       "<table border=\"1\" class=\"dataframe\">\n",
       "  <thead>\n",
       "    <tr style=\"text-align: right;\">\n",
       "      <th></th>\n",
       "      <th>dataset_name</th>\n",
       "      <th>split</th>\n",
       "      <th>category_dir</th>\n",
       "      <th>subcategory_dir</th>\n",
       "      <th>label_json_path</th>\n",
       "      <th>audio_path</th>\n",
       "      <th>label_name</th>\n",
       "      <th>clip_start_sec</th>\n",
       "      <th>clip_end_sec</th>\n",
       "      <th>clip_duration_sec</th>\n",
       "      <th>category_01</th>\n",
       "      <th>category_02</th>\n",
       "      <th>category_03</th>\n",
       "      <th>sub_category</th>\n",
       "      <th>decibel</th>\n",
       "      <th>source_sample_rate_hz</th>\n",
       "      <th>source_channels</th>\n",
       "      <th>audio_duration_sec</th>\n",
       "    </tr>\n",
       "  </thead>\n",
       "  <tbody>\n",
       "    <tr>\n",
       "      <th>0</th>\n",
       "      <td>130.도시_소리_데이터</td>\n",
       "      <td>Training</td>\n",
       "      <td>1.자동차</td>\n",
       "      <td>1.자동차/1.차량경적</td>\n",
       "      <td>130.도시_소리_데이터/01.데이터/1.Training/라벨링데이터/1.자동차/1...</td>\n",
       "      <td>130.도시_소리_데이터/01.데이터/1.Training/원천데이터/1.자동차/1....</td>\n",
       "      <td>1.자동차_1_1.wav</td>\n",
       "      <td>3.45</td>\n",
       "      <td>4.880</td>\n",
       "      <td>1.430</td>\n",
       "      <td>교통소음</td>\n",
       "      <td>자동차</td>\n",
       "      <td>차량경적</td>\n",
       "      <td>소형차경적</td>\n",
       "      <td>72.0</td>\n",
       "      <td>44100</td>\n",
       "      <td>1</td>\n",
       "      <td>9.200</td>\n",
       "    </tr>\n",
       "    <tr>\n",
       "      <th>1</th>\n",
       "      <td>130.도시_소리_데이터</td>\n",
       "      <td>Training</td>\n",
       "      <td>1.자동차</td>\n",
       "      <td>1.자동차/1.차량경적</td>\n",
       "      <td>130.도시_소리_데이터/01.데이터/1.Training/라벨링데이터/1.자동차/1...</td>\n",
       "      <td>130.도시_소리_데이터/01.데이터/1.Training/원천데이터/1.자동차/1....</td>\n",
       "      <td>1.자동차_100_1.wav</td>\n",
       "      <td>2.67</td>\n",
       "      <td>3.460</td>\n",
       "      <td>0.790</td>\n",
       "      <td>교통소음</td>\n",
       "      <td>자동차</td>\n",
       "      <td>차량경적</td>\n",
       "      <td>소형차경적</td>\n",
       "      <td>69.0</td>\n",
       "      <td>44100</td>\n",
       "      <td>1</td>\n",
       "      <td>9.630</td>\n",
       "    </tr>\n",
       "    <tr>\n",
       "      <th>2</th>\n",
       "      <td>130.도시_소리_데이터</td>\n",
       "      <td>Training</td>\n",
       "      <td>1.자동차</td>\n",
       "      <td>1.자동차/1.차량경적</td>\n",
       "      <td>130.도시_소리_데이터/01.데이터/1.Training/라벨링데이터/1.자동차/1...</td>\n",
       "      <td>130.도시_소리_데이터/01.데이터/1.Training/원천데이터/1.자동차/1....</td>\n",
       "      <td>1.자동차_10000_1.wav</td>\n",
       "      <td>2.00</td>\n",
       "      <td>2.816</td>\n",
       "      <td>0.816</td>\n",
       "      <td>교통소음</td>\n",
       "      <td>자동차</td>\n",
       "      <td>차량경적</td>\n",
       "      <td>대형차경적</td>\n",
       "      <td>116.0</td>\n",
       "      <td>44100</td>\n",
       "      <td>1</td>\n",
       "      <td>4.816</td>\n",
       "    </tr>\n",
       "    <tr>\n",
       "      <th>3</th>\n",
       "      <td>130.도시_소리_데이터</td>\n",
       "      <td>Training</td>\n",
       "      <td>1.자동차</td>\n",
       "      <td>1.자동차/1.차량경적</td>\n",
       "      <td>130.도시_소리_데이터/01.데이터/1.Training/라벨링데이터/1.자동차/1...</td>\n",
       "      <td>130.도시_소리_데이터/01.데이터/1.Training/원천데이터/1.자동차/1....</td>\n",
       "      <td>1.자동차_10001_1.wav</td>\n",
       "      <td>2.00</td>\n",
       "      <td>4.419</td>\n",
       "      <td>2.419</td>\n",
       "      <td>교통소음</td>\n",
       "      <td>자동차</td>\n",
       "      <td>차량경적</td>\n",
       "      <td>소형차경적</td>\n",
       "      <td>99.0</td>\n",
       "      <td>44100</td>\n",
       "      <td>1</td>\n",
       "      <td>6.419</td>\n",
       "    </tr>\n",
       "    <tr>\n",
       "      <th>4</th>\n",
       "      <td>130.도시_소리_데이터</td>\n",
       "      <td>Training</td>\n",
       "      <td>1.자동차</td>\n",
       "      <td>1.자동차/1.차량경적</td>\n",
       "      <td>130.도시_소리_데이터/01.데이터/1.Training/라벨링데이터/1.자동차/1...</td>\n",
       "      <td>130.도시_소리_데이터/01.데이터/1.Training/원천데이터/1.자동차/1....</td>\n",
       "      <td>1.자동차_10002_1.wav</td>\n",
       "      <td>2.00</td>\n",
       "      <td>2.980</td>\n",
       "      <td>0.980</td>\n",
       "      <td>교통소음</td>\n",
       "      <td>자동차</td>\n",
       "      <td>차량경적</td>\n",
       "      <td>소형차경적</td>\n",
       "      <td>76.0</td>\n",
       "      <td>44100</td>\n",
       "      <td>1</td>\n",
       "      <td>4.980</td>\n",
       "    </tr>\n",
       "  </tbody>\n",
       "</table>\n",
       "</div>"
      ],
      "text/plain": [
       "    dataset_name     split category_dir subcategory_dir  \\\n",
       "0  130.도시_소리_데이터  Training        1.자동차    1.자동차/1.차량경적   \n",
       "1  130.도시_소리_데이터  Training        1.자동차    1.자동차/1.차량경적   \n",
       "2  130.도시_소리_데이터  Training        1.자동차    1.자동차/1.차량경적   \n",
       "3  130.도시_소리_데이터  Training        1.자동차    1.자동차/1.차량경적   \n",
       "4  130.도시_소리_데이터  Training        1.자동차    1.자동차/1.차량경적   \n",
       "\n",
       "                                     label_json_path  \\\n",
       "0  130.도시_소리_데이터/01.데이터/1.Training/라벨링데이터/1.자동차/1...   \n",
       "1  130.도시_소리_데이터/01.데이터/1.Training/라벨링데이터/1.자동차/1...   \n",
       "2  130.도시_소리_데이터/01.데이터/1.Training/라벨링데이터/1.자동차/1...   \n",
       "3  130.도시_소리_데이터/01.데이터/1.Training/라벨링데이터/1.자동차/1...   \n",
       "4  130.도시_소리_데이터/01.데이터/1.Training/라벨링데이터/1.자동차/1...   \n",
       "\n",
       "                                          audio_path         label_name  \\\n",
       "0  130.도시_소리_데이터/01.데이터/1.Training/원천데이터/1.자동차/1....      1.자동차_1_1.wav   \n",
       "1  130.도시_소리_데이터/01.데이터/1.Training/원천데이터/1.자동차/1....    1.자동차_100_1.wav   \n",
       "2  130.도시_소리_데이터/01.데이터/1.Training/원천데이터/1.자동차/1....  1.자동차_10000_1.wav   \n",
       "3  130.도시_소리_데이터/01.데이터/1.Training/원천데이터/1.자동차/1....  1.자동차_10001_1.wav   \n",
       "4  130.도시_소리_데이터/01.데이터/1.Training/원천데이터/1.자동차/1....  1.자동차_10002_1.wav   \n",
       "\n",
       "   clip_start_sec  clip_end_sec  clip_duration_sec category_01 category_02  \\\n",
       "0            3.45         4.880              1.430        교통소음         자동차   \n",
       "1            2.67         3.460              0.790        교통소음         자동차   \n",
       "2            2.00         2.816              0.816        교통소음         자동차   \n",
       "3            2.00         4.419              2.419        교통소음         자동차   \n",
       "4            2.00         2.980              0.980        교통소음         자동차   \n",
       "\n",
       "  category_03 sub_category  decibel  source_sample_rate_hz  source_channels  \\\n",
       "0        차량경적        소형차경적     72.0                  44100                1   \n",
       "1        차량경적        소형차경적     69.0                  44100                1   \n",
       "2        차량경적        대형차경적    116.0                  44100                1   \n",
       "3        차량경적        소형차경적     99.0                  44100                1   \n",
       "4        차량경적        소형차경적     76.0                  44100                1   \n",
       "\n",
       "   audio_duration_sec  \n",
       "0               9.200  \n",
       "1               9.630  \n",
       "2               4.816  \n",
       "3               6.419  \n",
       "4               4.980  "
      ]
     },
     "execution_count": 4,
     "metadata": {},
     "output_type": "execute_result"
    }
   ],
   "source": [
    "catalog = pd.read_csv(catalog_path)\n",
    "catalog.head()"
   ]
  },
  {
   "cell_type": "code",
   "execution_count": 5,
   "metadata": {},
   "outputs": [
    {
     "data": {
      "text/plain": [
       "count    67793.000000\n",
       "mean        19.122106\n",
       "std         17.893932\n",
       "min          0.208000\n",
       "25%          4.882000\n",
       "50%         11.373000\n",
       "75%         30.255000\n",
       "max         60.000000\n",
       "Name: clip_duration_sec, dtype: float64"
      ]
     },
     "execution_count": 5,
     "metadata": {},
     "output_type": "execute_result"
    }
   ],
   "source": [
    "catalog['clip_duration_sec'].describe()"
   ]
  },
  {
   "cell_type": "code",
   "execution_count": 6,
   "metadata": {},
   "outputs": [
    {
     "data": {
      "text/plain": [
       "category_02\n",
       "이륜자동차    10312\n",
       "공사장      10251\n",
       "충격        8348\n",
       "자동차       7736\n",
       "공장        6851\n",
       "항공기       5612\n",
       "열차        4983\n",
       "도구        4598\n",
       "동물        4584\n",
       "가전        4518\n",
       "Name: count, dtype: int64"
      ]
     },
     "execution_count": 6,
     "metadata": {},
     "output_type": "execute_result"
    }
   ],
   "source": [
    "top_categories = catalog['category_02'].value_counts().head(10)\n",
    "top_categories"
   ]
  },
  {
   "cell_type": "code",
   "execution_count": 7,
   "metadata": {},
   "outputs": [
    {
     "data": {
      "image/png": "[encoded data removed]",
      "text/plain": [
       "<Figure size 1000x400 with 1 Axes>"
      ]
     },
     "metadata": {},
     "output_type": "display_data"
    }
   ],
   "source": [
    "plt.figure(figsize=(10, 4))\n",
    "sns.histplot(catalog['clip_duration_sec'], bins=50)\n",
    "plt.xlabel('Clip duration (sec)')\n",
    "plt.ylabel('Count')\n",
    "plt.title('Noise clip duration distribution')\n",
    "plt.tight_layout()"
   ]
  },
  {
   "cell_type": "code",
   "execution_count": null,
   "id": "fe069f59",
   "metadata": {},
   "outputs": [],
   "source": []
  }
 ],
 "metadata": {
  "kernelspec": {
   "display_name": "Python (hallucination_synth)",
   "language": "python",
   "name": "python3"
  },
  "language_info": {
   "codemirror_mode": {
    "name": "ipython",
    "version": 3
   },
   "file_extension": ".py",
   "mimetype": "text/x-python",
   "name": "python",
   "nbconvert_exporter": "python",
   "pygments_lexer": "ipython3",
   "version": "3.10.19"
  }
 },
 "nbformat": 4,
 "nbformat_minor": 5
}
