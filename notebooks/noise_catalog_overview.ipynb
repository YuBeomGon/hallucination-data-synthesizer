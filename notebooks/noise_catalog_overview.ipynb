{
 "cells": [
  {
   "cell_type": "markdown",
   "metadata": {},
   "source": [
    "# Noise Catalog Overview\n",
    "이 노트북은 `data/noise_catalog.csv`로 정리된 AI Hub 소음 메타데이터를 빠르게 살펴보기 위한 템플릿입니다.\n",
    "실행 전에 `conda activate hallucination_synth` 후 필요한 패키지(`pandas`, `matplotlib`, `seaborn`)가 설치되어 있는지 확인하세요."
   ]
  },
  {
   "cell_type": "code",
   "execution_count": null,
   "metadata": {},
   "outputs": [],
   "source": [
    "from pathlib import Path\n",
    "import pandas as pd\n",
    "import matplotlib.pyplot as plt\n",
    "import seaborn as sns\n",
    "\n",
    "sns.set_theme(style='whitegrid')\n",
    "\n",
    "project_root = Path('..')\n",
    "catalog_path = project_root / 'data' / 'noise_catalog.csv'\n",
    "catalog_path"
   ]
  },
  {
   "cell_type": "code",
   "execution_count": null,
   "metadata": {},
   "outputs": [],
   "source": [
    "catalog = pd.read_csv(catalog_path)\n",
    "catalog.head()"
   ]
  },
  {
   "cell_type": "code",
   "execution_count": null,
   "metadata": {},
   "outputs": [],
   "source": [
    "catalog['clip_duration_sec'].describe()"
   ]
  },
  {
   "cell_type": "code",
   "execution_count": null,
   "metadata": {},
   "outputs": [],
   "source": [
    "top_categories = catalog['category_02'].value_counts().head(10)\n",
    "top_categories"
   ]
  },
  {
   "cell_type": "code",
   "execution_count": null,
   "metadata": {},
   "outputs": [],
   "source": [
    "plt.figure(figsize=(10, 4))\n",
    "sns.histplot(catalog['clip_duration_sec'], bins=50)\n",
    "plt.xlabel('Clip duration (sec)')\n",
    "plt.ylabel('Count')\n",
    "plt.title('Noise clip duration distribution')\n",
    "plt.tight_layout()"
   ]
  }
 ],
 "metadata": {
  "kernelspec": {
   "display_name": "Python (hallucination_synth)",
   "language": "python",
   "name": "python3"
  },
  "language_info": {
   "codemirror_mode": {
    "name": "ipython",
    "version": 3
   },
   "file_extension": ".py",
   "mimetype": "text/x-python",
    "name": "python",
    "nbconvert_exporter": "python",
    "pygments_lexer": "ipython3",
    "version": "3.12"
  }
 },
 "nbformat": 4,
 "nbformat_minor": 5
}
